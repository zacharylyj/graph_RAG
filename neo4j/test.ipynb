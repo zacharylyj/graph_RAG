{
 "cells": [
  {
   "cell_type": "code",
   "execution_count": 3,
   "metadata": {},
   "outputs": [],
   "source": [
    "import pandas as pd\n",
    "\n",
    "# Load the CSV file into a DataFrame\n",
    "df = pd.read_csv(\"questions.csv\")"
   ]
  },
  {
   "cell_type": "code",
   "execution_count": 10,
   "metadata": {},
   "outputs": [
    {
     "name": "stdout",
     "output_type": "stream",
     "text": [
      "Warning: When  cdn_resources is 'local' jupyter notebook has issues displaying graphics on chrome/safari. Use cdn_resources='in_line' or cdn_resources='remote' if you have issues viewing graphics in a notebook.\n",
      "ontology_graph.html\n"
     ]
    },
    {
     "data": {
      "text/html": [
       "\n",
       "        <iframe\n",
       "            width=\"100%\"\n",
       "            height=\"600px\"\n",
       "            src=\"ontology_graph.html\"\n",
       "            frameborder=\"0\"\n",
       "            allowfullscreen\n",
       "            \n",
       "        ></iframe>\n",
       "        "
      ],
      "text/plain": [
       "<IPython.lib.display.IFrame at 0x2192b86b4c0>"
      ]
     },
     "execution_count": 10,
     "metadata": {},
     "output_type": "execute_result"
    }
   ],
   "source": [
    "from pyvis.network import Network\n",
    "import networkx as nx\n",
    "\n",
    "# Ensure you have pyvis installed\n",
    "# pip install pyvis\n",
    "\n",
    "# Extracted data\n",
    "ontology_data = [\n",
    "    {\n",
    "        \"node_1\": \"clinician-scientist\",\n",
    "        \"node_2\": \"leukocytes\",\n",
    "        \"edge\": \"The clinician-scientist was isolating leukocytes for a biomedical assay.\",\n",
    "    },\n",
    "    {\n",
    "        \"node_1\": \"leukocytes\",\n",
    "        \"node_2\": \"biomedical assay\",\n",
    "        \"edge\": \"Leukocytes were isolated for the purpose of a biomedical assay.\",\n",
    "    },\n",
    "    {\n",
    "        \"node_1\": \"red blood cells (RBCs)\",\n",
    "        \"node_2\": \"other blood cells\",\n",
    "        \"edge\": \"Red blood cells were removed from other blood cells by a hypotonic solution.\",\n",
    "    },\n",
    "    {\n",
    "        \"node_1\": \"hypotonic solution\",\n",
    "        \"node_2\": \"red blood cells (RBCs)\",\n",
    "        \"edge\": \"RBCs were lysed by exposure to a hypotonic solution.\",\n",
    "    },\n",
    "    {\n",
    "        \"node_1\": \"red blood cells (RBCs)\",\n",
    "        \"node_2\": \"lysis\",\n",
    "        \"edge\": \"RBCs were lysed while other blood cells remained intact.\",\n",
    "    },\n",
    "    {\n",
    "        \"node_1\": \"RBCs\",\n",
    "        \"node_2\": \"Na+\",\n",
    "        \"edge\": \"RBCs cannot pump Na+ out effectively, leading to lysis.\",\n",
    "    },\n",
    "    {\n",
    "        \"node_1\": \"hypertensive obese man\",\n",
    "        \"node_2\": \"sudden weakness\",\n",
    "        \"edge\": \"The hypertensive obese man presents with sudden weakness of the right side of his body.\",\n",
    "    },\n",
    "    {\n",
    "        \"node_1\": \"sudden weakness\",\n",
    "        \"node_2\": \"stroke\",\n",
    "        \"edge\": \"The man with sudden weakness was diagnosed to have had a stroke.\",\n",
    "    },\n",
    "    {\n",
    "        \"node_1\": \"endothelial injury\",\n",
    "        \"node_2\": \"thrombosis\",\n",
    "        \"edge\": \"Endothelial injury leads to thrombosis.\",\n",
    "    },\n",
    "    {\n",
    "        \"node_1\": \"thrombosis\",\n",
    "        \"node_2\": \"embolism\",\n",
    "        \"edge\": \"Thrombosis can lead to embolism.\",\n",
    "    },\n",
    "    {\n",
    "        \"node_1\": \"embolism\",\n",
    "        \"node_2\": \"ischaemia\",\n",
    "        \"edge\": \"Embolism results in ischaemia.\",\n",
    "    },\n",
    "]\n",
    "\n",
    "# Initialize a Pyvis network\n",
    "net = Network(notebook=True)\n",
    "\n",
    "# Add nodes and edges to the Pyvis network\n",
    "for entry in ontology_data:\n",
    "    node_1 = entry[\"node_1\"]\n",
    "    node_2 = entry[\"node_2\"]\n",
    "    edge = entry[\"edge\"]\n",
    "\n",
    "    net.add_node(node_1, label=node_1)\n",
    "    net.add_node(node_2, label=node_2)\n",
    "    net.add_edge(node_1, node_2, title=edge)\n",
    "\n",
    "# Generate and show the interactive network\n",
    "net.show(\"ontology_graph.html\")"
   ]
  }
 ],
 "metadata": {
  "kernelspec": {
   "display_name": "azureaistudio",
   "language": "python",
   "name": "python3"
  },
  "language_info": {
   "codemirror_mode": {
    "name": "ipython",
    "version": 3
   },
   "file_extension": ".py",
   "mimetype": "text/x-python",
   "name": "python",
   "nbconvert_exporter": "python",
   "pygments_lexer": "ipython3",
   "version": "3.10.13"
  }
 },
 "nbformat": 4,
 "nbformat_minor": 2
}
