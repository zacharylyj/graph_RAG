{
 "cells": [
  {
   "cell_type": "code",
   "execution_count": 8,
   "metadata": {},
   "outputs": [
    {
     "name": "stdout",
     "output_type": "stream",
     "text": [
      "[{'node_1': 'vaccination', 'node_2': 'disease prevention', 'edge': 'aims to achieve'}, {'node_1': 'human rights', 'node_2': 'vaccination', 'edge': 'perceived conflict'}, {'node_1': 'vaccines', 'node_2': 'advancement', 'edge': 'represent'}, {'node_1': 'pandemic', 'node_2': 'awareness', 'edge': 'increased'}, {'node_1': 'viruses', 'node_2': 'vaccines', 'edge': 'combat'}, {'node_1': 'isolation', 'node_2': 'historical disease control', 'edge': 'method of'}, {'node_1': 'Edward Jenner', 'node_2': 'smallpox vaccine', 'edge': 'developed'}, {'node_1': '1796', 'node_2': 'smallpox vaccine', 'edge': 'year of development'}, {'node_1': 'smallpox', 'node_2': 'endemic disease', 'edge': 'caused'}, {'node_1': 'milkmaids', 'node_2': 'bovine smallpox', 'edge': 'contacted'}, {'node_1': 'immunity', 'node_2': 'disease survival', 'edge': 'resulted from'}, {'node_1': '8-year-old boy', 'node_2': 'first vaccination subject', 'edge': 'chosen as'}, {'node_1': 'WHO', 'node_2': 'smallpox eradication', 'edge': 'declared'}, {'node_1': 'anti-vax movements', 'node_2': 'vaccine skepticism', 'edge': 'promote'}, {'node_1': 'COVID-19 epidemic', 'node_2': 'vaccine necessity', 'edge': 'highlighted'}, {'node_1': 'fear', 'node_2': 'vaccination', 'edge': 'associated with'}, {'node_1': 'vaccine efficacy', 'node_2': 'relative risk reduction', 'edge': 'calculated by'}, {'node_1': 'vaccine efficacy', 'node_2': 'absolute risk reduction', 'edge': 'compared to'}, {'node_1': 'Pfizer', 'node_2': 'COVID-19 vaccine', 'edge': 'developed'}, {'node_1': 'Moderna', 'node_2': 'COVID-19 vaccine', 'edge': 'developed'}, {'node_1': 'trial participants', 'node_2': 'vaccine trial', 'edge': 'involved'}, {'node_1': 'media', 'node_2': 'vaccine efficacy reporting', 'edge': 'communicated'}, {'node_1': 'general population', 'node_2': 'vaccine efficacy misunderstanding', 'edge': 'experienced'}, {'node_1': 'relative risk reduction', 'node_2': 'population specific', 'edge': 'based on'}, {'node_1': 'absolute risk reduction', 'node_2': 'general population', 'edge': 'more relevant to'}, {'node_1': 'misunderstanding', 'node_2': 'vaccine efficacy', 'edge': 'caused by'}, {'node_1': 'Pfizer vaccine', 'node_2': '95% efficacy', 'edge': 'claimed'}, {'node_1': 'AstraZeneca', 'node_2': 'vaccine controversy', 'edge': 'involved in'}, {'node_1': 'side effects', 'node_2': 'vaccine hesitancy', 'edge': 'caused'}, {'node_1': 'EMA', 'node_2': 'vaccine authorization', 'edge': 'granted'}, {'node_1': 'control group', 'node_2': 'placebo recipients', 'edge': 'comprised of'}, {'node_1': 'risk reduction', 'node_2': 'vaccine choice', 'edge': 'influences'}, {'node_1': 'general practitioners', 'node_2': 'public vaccine information', 'edge': 'provide'}, {'node_1': 'social media', 'node_2': 'vaccine information dissemination', 'edge': 'platform for'}, {'node_1': 'digital technology', 'node_2': 'communication', 'edge': 'facilitates'}, {'node_1': 'public understanding', 'node_2': 'vaccine efficacy', 'edge': 'lacking in'}]\n"
     ]
    }
   ],
   "source": [
    "import json\n",
    "import re\n",
    "\n",
    "\n",
    "def clean_and_parse_json(json_str):\n",
    "    # Replace single quotes with double quotes if necessary (not needed here as your JSON uses double quotes)\n",
    "    # json_str = re.sub(r\"(?<!\\\\)'\", '\"', json_str)\n",
    "\n",
    "    # Remove trailing commas in JSON before a closing brace or array bracket\n",
    "    json_str = re.sub(r\",(\\s*[}\\]])\", r\"\\1\", json_str)\n",
    "\n",
    "    # Attempt to fix unquoted keys if there are any (not needed in this example)\n",
    "    # json_str = re.sub(r'([{,]\\s*)(\\w+)(\\s*:)','\\\\1\"\\\\2\"\\\\3', json_str)\n",
    "\n",
    "    return json.loads(json_str)\n",
    "\n",
    "\n",
    "def merge_json_objects_from_text(filepath):\n",
    "    with open(filepath, \"r\") as file:\n",
    "        # Read the entire file content\n",
    "        content = file.read()\n",
    "\n",
    "        # Split the content by recognizing the JSON array patterns\n",
    "        pattern = r\"\\[.*?\\](?=\\s*\\[|$)\"\n",
    "        json_strings = re.findall(pattern, content, re.DOTALL)\n",
    "\n",
    "        all_json_objects = []\n",
    "        for json_str in json_strings:\n",
    "            try:\n",
    "                # Clean and parse each found JSON string and extend the main list\n",
    "                parsed_json = clean_and_parse_json(json_str)\n",
    "                all_json_objects.extend(parsed_json)\n",
    "            except json.JSONDecodeError as e:\n",
    "                print(f\"Error parsing JSON: {e}\")\n",
    "                print(\"Faulty JSON:\", json_str)\n",
    "\n",
    "        return all_json_objects\n",
    "\n",
    "\n",
    "# Use the function to merge JSON objects from your file\n",
    "merged_json = merge_json_objects_from_text(\"dump.txt\")\n",
    "print(merged_json)"
   ]
  },
  {
   "cell_type": "code",
   "execution_count": null,
   "metadata": {},
   "outputs": [],
   "source": []
  }
 ],
 "metadata": {
  "kernelspec": {
   "display_name": "azureaistudio",
   "language": "python",
   "name": "python3"
  },
  "language_info": {
   "codemirror_mode": {
    "name": "ipython",
    "version": 3
   },
   "file_extension": ".py",
   "mimetype": "text/x-python",
   "name": "python",
   "nbconvert_exporter": "python",
   "pygments_lexer": "ipython3",
   "version": "3.10.13"
  }
 },
 "nbformat": 4,
 "nbformat_minor": 2
}
